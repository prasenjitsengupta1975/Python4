{
 "cells": [
  {
   "cell_type": "code",
   "execution_count": 1,
   "metadata": {},
   "outputs": [],
   "source": [
    "# Write a Python Program(with class concepts) to find the area of the triangle using the below\n",
    "\n",
    "class takesides():\n",
    "      def __init__(self,a,b,c):\n",
    "            self.a = a + 1\n",
    "            self.b = b + 2\n",
    "            self.c = c + 3"
   ]
  },
  {
   "cell_type": "code",
   "execution_count": 2,
   "metadata": {},
   "outputs": [],
   "source": [
    "class calculate1(takesides):\n",
    "    def __init__(self,a,b,c):\n",
    "        super(calculate1,self).__init__(a,b,c)\n",
    "        # area = (self.x* 0.5)\n",
    "        # self.a = a\n",
    "        a = self.a\n",
    "        b= self.b\n",
    "        c= self.c\n",
    "        s = (a + b + c) / 2\n",
    "        area = (s*(s-a)*(s-b)*(s-c)) ** 0.5\n",
    "        print(self.a,a)\n",
    "        print(area)"
   ]
  },
  {
   "cell_type": "code",
   "execution_count": 3,
   "metadata": {},
   "outputs": [
    {
     "name": "stdout",
     "output_type": "stream",
     "text": [
      "6 6\n",
      "17.056890103415686\n"
     ]
    }
   ],
   "source": [
    "x= calculate1(5,5,3)"
   ]
  },
  {
   "cell_type": "code",
   "execution_count": 2,
   "metadata": {},
   "outputs": [
    {
     "name": "stdout",
     "output_type": "stream",
     "text": [
      "ABCDE\n"
     ]
    }
   ],
   "source": [
    "#Write a function filter_long_words() that takes a list of words and an integer n and returns\n",
    "#the list of words that are longer than n.\n",
    "def filter_long_words(listofword , n):\n",
    "    #x = listofword\n",
    "    #print(range(x))\n",
    "   # x = i for i in listofword \n",
    "    for i in listofword: \n",
    "        if len(i) > n:\n",
    "            print(i)\n",
    "filter_long_words(['AB12','ABCDE'],4)"
   ]
  },
  {
   "cell_type": "code",
   "execution_count": 3,
   "metadata": {},
   "outputs": [
    {
     "name": "stdout",
     "output_type": "stream",
     "text": [
      "[5, 5, 3]\n"
     ]
    }
   ],
   "source": [
    "#Write a Python program using function concept that maps list of words into a list of integers\n",
    "#representing the lengths of the corresponding words.\n",
    "def map_words(listofword):\n",
    "    x = []\n",
    "    #print(range(x))\n",
    "   # x = i for i in listofword \n",
    "    for i in listofword: \n",
    "            x.append(len(i))\n",
    "    print(x)\n",
    "map_words(['AB123','ABCDE','123'])"
   ]
  },
  {
   "cell_type": "code",
   "execution_count": 4,
   "metadata": {},
   "outputs": [],
   "source": [
    "#Write a Python function which takes a character (i.e. a string of length 1) and returns True if\n",
    "#it is a vowel, False otherwise.\n",
    "def checkvowel(str):\n",
    "    \n",
    "    x = list('AEIOU')\n",
    "    for i in x:\n",
    "        if str == i:\n",
    "           print(\"Vowel IS TRUE\")\n",
    "           break\n",
    "    if str != i:\n",
    "       print(\"Vowel IS FALSE\")"
   ]
  },
  {
   "cell_type": "code",
   "execution_count": 5,
   "metadata": {},
   "outputs": [
    {
     "name": "stdout",
     "output_type": "stream",
     "text": [
      "Vowel IS TRUE\n"
     ]
    }
   ],
   "source": [
    "checkvowel('A')"
   ]
  },
  {
   "cell_type": "code",
   "execution_count": 6,
   "metadata": {},
   "outputs": [
    {
     "name": "stdout",
     "output_type": "stream",
     "text": [
      "Vowel IS FALSE\n"
     ]
    }
   ],
   "source": [
    "checkvowel('D')"
   ]
  },
  {
   "cell_type": "code",
   "execution_count": null,
   "metadata": {},
   "outputs": [],
   "source": []
  }
 ],
 "metadata": {
  "kernelspec": {
   "display_name": "Python 3",
   "language": "python",
   "name": "python3"
  },
  "language_info": {
   "codemirror_mode": {
    "name": "ipython",
    "version": 3
   },
   "file_extension": ".py",
   "mimetype": "text/x-python",
   "name": "python",
   "nbconvert_exporter": "python",
   "pygments_lexer": "ipython3",
   "version": "3.6.5"
  }
 },
 "nbformat": 4,
 "nbformat_minor": 2
}
